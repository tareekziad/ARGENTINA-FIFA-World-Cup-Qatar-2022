{
 "cells": [
  {
   "cell_type": "code",
   "execution_count": 54,
   "id": "0ac6ed41",
   "metadata": {},
   "outputs": [],
   "source": [
    "import pandas as pd \n",
    "import seaborn as sns\n",
    "import matplotlib.pyplot as plt \n",
    "import numpy as np\n",
    "import warnings\n",
    "warnings.filterwarnings('ignore')"
   ]
  },
  {
   "cell_type": "code",
   "execution_count": 55,
   "id": "5d5e4ae5",
   "metadata": {},
   "outputs": [],
   "source": [
    "sns.set_theme(context='paper',style='darkgrid' , palette='Dark2' , rc = {'figure.figsize' : (5 , 5)})"
   ]
  },
  {
   "cell_type": "code",
   "execution_count": 56,
   "id": "8466139c",
   "metadata": {},
   "outputs": [],
   "source": [
    "df = pd.read_csv('Fifa_world_cup_matches.csv')"
   ]
  },
  {
   "cell_type": "code",
   "execution_count": 57,
   "id": "de634281",
   "metadata": {},
   "outputs": [],
   "source": [
    "df.drop(['possession in contest'] , axis = 1 , inplace = True )"
   ]
  },
  {
   "cell_type": "code",
   "execution_count": 58,
   "id": "b9a20e8e",
   "metadata": {},
   "outputs": [],
   "source": [
    "df = df[(df['team1'] == 'ARGENTINA') | (df['team2'] == 'ARGENTINA')]\n",
    "df.reset_index(inplace = True , drop = True )"
   ]
  },
  {
   "cell_type": "code",
   "execution_count": 59,
   "id": "b7fb06b6",
   "metadata": {},
   "outputs": [
    {
     "data": {
      "text/plain": [
       "0          Group C\n",
       "1          Group C\n",
       "2          Group C\n",
       "3      Round of 16\n",
       "4    Quarter-final\n",
       "5       Semi-final\n",
       "6            Final\n",
       "Name: category, dtype: object"
      ]
     },
     "execution_count": 59,
     "metadata": {},
     "output_type": "execute_result"
    }
   ],
   "source": [
    "category = df['category']\n",
    "category"
   ]
  },
  {
   "cell_type": "code",
   "execution_count": 60,
   "id": "7c254835",
   "metadata": {},
   "outputs": [
    {
     "data": {
      "text/html": [
       "<div>\n",
       "<style scoped>\n",
       "    .dataframe tbody tr th:only-of-type {\n",
       "        vertical-align: middle;\n",
       "    }\n",
       "\n",
       "    .dataframe tbody tr th {\n",
       "        vertical-align: top;\n",
       "    }\n",
       "\n",
       "    .dataframe thead th {\n",
       "        text-align: right;\n",
       "    }\n",
       "</style>\n",
       "<table border=\"1\" class=\"dataframe\">\n",
       "  <thead>\n",
       "    <tr style=\"text-align: right;\">\n",
       "      <th></th>\n",
       "      <th>team1</th>\n",
       "      <th>team2</th>\n",
       "      <th>possession team1</th>\n",
       "      <th>possession team2</th>\n",
       "      <th>number of goals team1</th>\n",
       "      <th>number of goals team2</th>\n",
       "      <th>date</th>\n",
       "      <th>hour</th>\n",
       "      <th>category</th>\n",
       "      <th>total attempts team1</th>\n",
       "      <th>...</th>\n",
       "      <th>penalties scored team1</th>\n",
       "      <th>penalties scored team2</th>\n",
       "      <th>goal preventions team1</th>\n",
       "      <th>goal preventions team2</th>\n",
       "      <th>own goals team1</th>\n",
       "      <th>own goals team2</th>\n",
       "      <th>forced turnovers team1</th>\n",
       "      <th>forced turnovers team2</th>\n",
       "      <th>defensive pressures applied team1</th>\n",
       "      <th>defensive pressures applied team2</th>\n",
       "    </tr>\n",
       "  </thead>\n",
       "  <tbody>\n",
       "    <tr>\n",
       "      <th>0</th>\n",
       "      <td>ARGENTINA</td>\n",
       "      <td>SAUDI ARABIA</td>\n",
       "      <td>64%</td>\n",
       "      <td>24%</td>\n",
       "      <td>1</td>\n",
       "      <td>2</td>\n",
       "      <td>22 NOV 2022</td>\n",
       "      <td>11 : 00</td>\n",
       "      <td>Group C</td>\n",
       "      <td>14</td>\n",
       "      <td>...</td>\n",
       "      <td>1</td>\n",
       "      <td>0</td>\n",
       "      <td>4</td>\n",
       "      <td>14</td>\n",
       "      <td>0</td>\n",
       "      <td>0</td>\n",
       "      <td>65</td>\n",
       "      <td>80</td>\n",
       "      <td>163</td>\n",
       "      <td>361</td>\n",
       "    </tr>\n",
       "    <tr>\n",
       "      <th>1</th>\n",
       "      <td>ARGENTINA</td>\n",
       "      <td>MEXICO</td>\n",
       "      <td>50%</td>\n",
       "      <td>36%</td>\n",
       "      <td>2</td>\n",
       "      <td>0</td>\n",
       "      <td>26 NOV 2022</td>\n",
       "      <td>20 : 00</td>\n",
       "      <td>Group C</td>\n",
       "      <td>5</td>\n",
       "      <td>...</td>\n",
       "      <td>0</td>\n",
       "      <td>0</td>\n",
       "      <td>4</td>\n",
       "      <td>5</td>\n",
       "      <td>0</td>\n",
       "      <td>0</td>\n",
       "      <td>63</td>\n",
       "      <td>79</td>\n",
       "      <td>220</td>\n",
       "      <td>327</td>\n",
       "    </tr>\n",
       "    <tr>\n",
       "      <th>2</th>\n",
       "      <td>POLAND</td>\n",
       "      <td>ARGENTINA</td>\n",
       "      <td>24%</td>\n",
       "      <td>67%</td>\n",
       "      <td>0</td>\n",
       "      <td>2</td>\n",
       "      <td>30 NOV 2022</td>\n",
       "      <td>20 : 00</td>\n",
       "      <td>Group C</td>\n",
       "      <td>4</td>\n",
       "      <td>...</td>\n",
       "      <td>0</td>\n",
       "      <td>0</td>\n",
       "      <td>25</td>\n",
       "      <td>4</td>\n",
       "      <td>0</td>\n",
       "      <td>0</td>\n",
       "      <td>67</td>\n",
       "      <td>48</td>\n",
       "      <td>438</td>\n",
       "      <td>141</td>\n",
       "    </tr>\n",
       "    <tr>\n",
       "      <th>3</th>\n",
       "      <td>ARGENTINA</td>\n",
       "      <td>AUSTRALIA</td>\n",
       "      <td>53%</td>\n",
       "      <td>35%</td>\n",
       "      <td>2</td>\n",
       "      <td>1</td>\n",
       "      <td>03 DEC 2022</td>\n",
       "      <td>20 : 00</td>\n",
       "      <td>Round of 16</td>\n",
       "      <td>14</td>\n",
       "      <td>...</td>\n",
       "      <td>0</td>\n",
       "      <td>0</td>\n",
       "      <td>5</td>\n",
       "      <td>14</td>\n",
       "      <td>1</td>\n",
       "      <td>0</td>\n",
       "      <td>67</td>\n",
       "      <td>73</td>\n",
       "      <td>240</td>\n",
       "      <td>453</td>\n",
       "    </tr>\n",
       "    <tr>\n",
       "      <th>4</th>\n",
       "      <td>NETHERLANDS</td>\n",
       "      <td>ARGENTINA</td>\n",
       "      <td>45%</td>\n",
       "      <td>44%</td>\n",
       "      <td>2</td>\n",
       "      <td>2</td>\n",
       "      <td>09 DEC 2022</td>\n",
       "      <td>20 : 00</td>\n",
       "      <td>Quarter-final</td>\n",
       "      <td>5</td>\n",
       "      <td>...</td>\n",
       "      <td>0</td>\n",
       "      <td>1</td>\n",
       "      <td>15</td>\n",
       "      <td>5</td>\n",
       "      <td>0</td>\n",
       "      <td>0</td>\n",
       "      <td>91</td>\n",
       "      <td>79</td>\n",
       "      <td>401</td>\n",
       "      <td>323</td>\n",
       "    </tr>\n",
       "    <tr>\n",
       "      <th>5</th>\n",
       "      <td>ARGENTINA</td>\n",
       "      <td>CROATIA</td>\n",
       "      <td>34%</td>\n",
       "      <td>54%</td>\n",
       "      <td>3</td>\n",
       "      <td>0</td>\n",
       "      <td>13 DEC 2022</td>\n",
       "      <td>20 : 00</td>\n",
       "      <td>Semi-final</td>\n",
       "      <td>10</td>\n",
       "      <td>...</td>\n",
       "      <td>1</td>\n",
       "      <td>0</td>\n",
       "      <td>12</td>\n",
       "      <td>10</td>\n",
       "      <td>0</td>\n",
       "      <td>0</td>\n",
       "      <td>85</td>\n",
       "      <td>63</td>\n",
       "      <td>321</td>\n",
       "      <td>260</td>\n",
       "    </tr>\n",
       "    <tr>\n",
       "      <th>6</th>\n",
       "      <td>ARGENTINA</td>\n",
       "      <td>FRANCE</td>\n",
       "      <td>46%</td>\n",
       "      <td>40%</td>\n",
       "      <td>3</td>\n",
       "      <td>3</td>\n",
       "      <td>18 DEC 2022</td>\n",
       "      <td>16 : 00</td>\n",
       "      <td>Final</td>\n",
       "      <td>21</td>\n",
       "      <td>...</td>\n",
       "      <td>1</td>\n",
       "      <td>2</td>\n",
       "      <td>11</td>\n",
       "      <td>21</td>\n",
       "      <td>0</td>\n",
       "      <td>0</td>\n",
       "      <td>87</td>\n",
       "      <td>104</td>\n",
       "      <td>280</td>\n",
       "      <td>409</td>\n",
       "    </tr>\n",
       "  </tbody>\n",
       "</table>\n",
       "<p>7 rows × 87 columns</p>\n",
       "</div>"
      ],
      "text/plain": [
       "         team1         team2 possession team1 possession team2  \\\n",
       "0    ARGENTINA  SAUDI ARABIA              64%              24%   \n",
       "1    ARGENTINA        MEXICO              50%              36%   \n",
       "2       POLAND     ARGENTINA              24%              67%   \n",
       "3    ARGENTINA     AUSTRALIA              53%              35%   \n",
       "4  NETHERLANDS     ARGENTINA              45%              44%   \n",
       "5    ARGENTINA       CROATIA              34%              54%   \n",
       "6    ARGENTINA        FRANCE              46%              40%   \n",
       "\n",
       "   number of goals team1  number of goals team2         date     hour  \\\n",
       "0                      1                      2  22 NOV 2022  11 : 00   \n",
       "1                      2                      0  26 NOV 2022  20 : 00   \n",
       "2                      0                      2  30 NOV 2022  20 : 00   \n",
       "3                      2                      1  03 DEC 2022  20 : 00   \n",
       "4                      2                      2  09 DEC 2022  20 : 00   \n",
       "5                      3                      0  13 DEC 2022  20 : 00   \n",
       "6                      3                      3  18 DEC 2022  16 : 00   \n",
       "\n",
       "        category  total attempts team1  ...  penalties scored team1  \\\n",
       "0        Group C                    14  ...                       1   \n",
       "1        Group C                     5  ...                       0   \n",
       "2        Group C                     4  ...                       0   \n",
       "3    Round of 16                    14  ...                       0   \n",
       "4  Quarter-final                     5  ...                       0   \n",
       "5     Semi-final                    10  ...                       1   \n",
       "6          Final                    21  ...                       1   \n",
       "\n",
       "   penalties scored team2  goal preventions team1  goal preventions team2  \\\n",
       "0                       0                       4                      14   \n",
       "1                       0                       4                       5   \n",
       "2                       0                      25                       4   \n",
       "3                       0                       5                      14   \n",
       "4                       1                      15                       5   \n",
       "5                       0                      12                      10   \n",
       "6                       2                      11                      21   \n",
       "\n",
       "   own goals team1  own goals team2  forced turnovers team1  \\\n",
       "0                0                0                      65   \n",
       "1                0                0                      63   \n",
       "2                0                0                      67   \n",
       "3                1                0                      67   \n",
       "4                0                0                      91   \n",
       "5                0                0                      85   \n",
       "6                0                0                      87   \n",
       "\n",
       "   forced turnovers team2  defensive pressures applied team1  \\\n",
       "0                      80                                163   \n",
       "1                      79                                220   \n",
       "2                      48                                438   \n",
       "3                      73                                240   \n",
       "4                      79                                401   \n",
       "5                      63                                321   \n",
       "6                     104                                280   \n",
       "\n",
       "   defensive pressures applied team2  \n",
       "0                                361  \n",
       "1                                327  \n",
       "2                                141  \n",
       "3                                453  \n",
       "4                                323  \n",
       "5                                260  \n",
       "6                                409  \n",
       "\n",
       "[7 rows x 87 columns]"
      ]
     },
     "execution_count": 60,
     "metadata": {},
     "output_type": "execute_result"
    }
   ],
   "source": [
    "df"
   ]
  },
  {
   "cell_type": "code",
   "execution_count": 61,
   "id": "ead9246d",
   "metadata": {},
   "outputs": [],
   "source": [
    "df.drop(['date', 'hour','category'] , axis = 1 , inplace = True )"
   ]
  },
  {
   "cell_type": "code",
   "execution_count": 62,
   "id": "d62ba109",
   "metadata": {},
   "outputs": [],
   "source": [
    "for i in range(0 , df.shape[1] , 2):\n",
    "    df.iloc[2 , i] , df.iloc[2 , i+1] = df.iloc[2 , i+1] , df.iloc[2 , i]"
   ]
  },
  {
   "cell_type": "code",
   "execution_count": 63,
   "id": "024a568a",
   "metadata": {},
   "outputs": [],
   "source": [
    "for i in range(0 , df.shape[1] , 2):\n",
    "    df.iloc[4 , i] , df.iloc[4 , i+1] = df.iloc[4 , i+1] , df.iloc[4 , i]"
   ]
  },
  {
   "cell_type": "code",
   "execution_count": 64,
   "id": "2c7e4261",
   "metadata": {},
   "outputs": [],
   "source": [
    "df.drop([col for col in df.columns if (col not in ['team2' , 'number of goals team2'] and col[-1] == '2')] , axis = 1 , inplace = True )"
   ]
  },
  {
   "cell_type": "code",
   "execution_count": 65,
   "id": "9ea27d3b",
   "metadata": {},
   "outputs": [],
   "source": [
    "df['category'] = category"
   ]
  },
  {
   "cell_type": "code",
   "execution_count": 66,
   "id": "838c021a",
   "metadata": {},
   "outputs": [
    {
     "data": {
      "text/plain": [
       "Index(['team1', 'team2', 'possession team1', 'number of goals team1',\n",
       "       'number of goals team2', 'total attempts team1', 'conceded team1',\n",
       "       'goal inside the penalty area team1',\n",
       "       'goal outside the penalty area team1', 'assists team1',\n",
       "       'on target attempts team1', 'off target attempts team1',\n",
       "       'attempts inside the penalty area team1',\n",
       "       'attempts outside the penalty area  team1', 'left channel team1',\n",
       "       'left inside channel team1', 'central channel team1',\n",
       "       'right inside channel team1', 'right channel team1',\n",
       "       'total offers to receive team1', 'inbehind offers to receive team1',\n",
       "       'inbetween offers to receive team1', 'infront offers to receive team1',\n",
       "       'receptions between midfield and defensive lines team1',\n",
       "       'attempted line breaks team1', 'completed line breaksteam1',\n",
       "       'attempted defensive line breaks team1',\n",
       "       'completed defensive line breaksteam1', 'yellow cards team1',\n",
       "       'red cards team1', 'fouls against team1', 'offsides team1',\n",
       "       'passes team1', 'passes completed team1', 'crosses team1',\n",
       "       'crosses completed team1', 'switches of play completed team1',\n",
       "       'corners team1', 'free kicks team1', 'penalties scored team1',\n",
       "       'goal preventions team1', 'own goals team1', 'forced turnovers team1',\n",
       "       'defensive pressures applied team1', 'category'],\n",
       "      dtype='object')"
      ]
     },
     "execution_count": 66,
     "metadata": {},
     "output_type": "execute_result"
    }
   ],
   "source": [
    "df.columns"
   ]
  },
  {
   "cell_type": "code",
   "execution_count": 67,
   "id": "38129f77",
   "metadata": {},
   "outputs": [],
   "source": [
    "col_for_analysis = ['team1','team2',\n",
    " 'possession team1',\n",
    " 'number of goals team1','number of goals team2',\n",
    " 'total attempts team1','goal inside the penalty area team1',\n",
    " 'goal outside the penalty area team1',\n",
    " 'assists team1',\n",
    " 'on target attempts team1',\n",
    " 'off target attempts team1',\n",
    " 'attempts inside the penalty area team1',\n",
    " 'attempts outside the penalty area  team1','yellow cards team1',\n",
    " 'red cards team1',\n",
    " 'fouls against team1',\n",
    " 'offsides team1',\n",
    " 'passes team1',\n",
    " 'passes completed team1',\n",
    " 'crosses team1',\n",
    " 'crosses completed team1','corners team1',\n",
    " 'free kicks team1',\n",
    " 'penalties scored team1',\n",
    " 'goal preventions team1',\n",
    " 'own goals team1','category']"
   ]
  },
  {
   "cell_type": "code",
   "execution_count": 68,
   "id": "df33191f",
   "metadata": {},
   "outputs": [],
   "source": [
    "df = df[col_for_analysis]"
   ]
  },
  {
   "cell_type": "code",
   "execution_count": 69,
   "id": "6eba4633",
   "metadata": {},
   "outputs": [
    {
     "name": "stdout",
     "output_type": "stream",
     "text": [
      "<class 'pandas.core.frame.DataFrame'>\n",
      "RangeIndex: 7 entries, 0 to 6\n",
      "Data columns (total 27 columns):\n",
      " #   Column                                    Non-Null Count  Dtype \n",
      "---  ------                                    --------------  ----- \n",
      " 0   team1                                     7 non-null      object\n",
      " 1   team2                                     7 non-null      object\n",
      " 2   possession team1                          7 non-null      object\n",
      " 3   number of goals team1                     7 non-null      int64 \n",
      " 4   number of goals team2                     7 non-null      int64 \n",
      " 5   total attempts team1                      7 non-null      int64 \n",
      " 6   goal inside the penalty area team1        7 non-null      int64 \n",
      " 7   goal outside the penalty area team1       7 non-null      int64 \n",
      " 8   assists team1                             7 non-null      int64 \n",
      " 9   on target attempts team1                  7 non-null      int64 \n",
      " 10  off target attempts team1                 7 non-null      int64 \n",
      " 11  attempts inside the penalty area team1    7 non-null      int64 \n",
      " 12  attempts outside the penalty area  team1  7 non-null      int64 \n",
      " 13  yellow cards team1                        7 non-null      int64 \n",
      " 14  red cards team1                           7 non-null      int64 \n",
      " 15  fouls against team1                       7 non-null      int64 \n",
      " 16  offsides team1                            7 non-null      int64 \n",
      " 17  passes team1                              7 non-null      int64 \n",
      " 18  passes completed team1                    7 non-null      int64 \n",
      " 19  crosses team1                             7 non-null      int64 \n",
      " 20  crosses completed team1                   7 non-null      int64 \n",
      " 21  corners team1                             7 non-null      int64 \n",
      " 22  free kicks team1                          7 non-null      int64 \n",
      " 23  penalties scored team1                    7 non-null      int64 \n",
      " 24  goal preventions team1                    7 non-null      int64 \n",
      " 25  own goals team1                           7 non-null      int64 \n",
      " 26  category                                  7 non-null      object\n",
      "dtypes: int64(23), object(4)\n",
      "memory usage: 1.6+ KB\n"
     ]
    }
   ],
   "source": [
    "df.info()"
   ]
  },
  {
   "cell_type": "code",
   "execution_count": 70,
   "id": "996cfb15",
   "metadata": {},
   "outputs": [
    {
     "data": {
      "text/plain": [
       "array(['64%', '50%', '67%', '53%', '44%', '34%', '46%'], dtype=object)"
      ]
     },
     "execution_count": 70,
     "metadata": {},
     "output_type": "execute_result"
    }
   ],
   "source": [
    "df['possession team1'].unique()"
   ]
  },
  {
   "cell_type": "code",
   "execution_count": 71,
   "id": "dc6ee3e2",
   "metadata": {},
   "outputs": [],
   "source": [
    "df['possession team1'] = df['possession team1'].apply(lambda x : int(x.split('%')[0]))"
   ]
  },
  {
   "cell_type": "code",
   "execution_count": 72,
   "id": "48751111",
   "metadata": {},
   "outputs": [
    {
     "data": {
      "text/plain": [
       "dtype('int64')"
      ]
     },
     "execution_count": 72,
     "metadata": {},
     "output_type": "execute_result"
    }
   ],
   "source": [
    "df['possession team1'].dtype"
   ]
  },
  {
   "cell_type": "code",
   "execution_count": 73,
   "id": "28d2d254",
   "metadata": {},
   "outputs": [
    {
     "data": {
      "text/plain": [
       "Index(['team1', 'team2', 'possession team1', 'number of goals team1',\n",
       "       'number of goals team2', 'total attempts team1',\n",
       "       'goal inside the penalty area team1',\n",
       "       'goal outside the penalty area team1', 'assists team1',\n",
       "       'on target attempts team1', 'off target attempts team1',\n",
       "       'attempts inside the penalty area team1',\n",
       "       'attempts outside the penalty area  team1', 'yellow cards team1',\n",
       "       'red cards team1', 'fouls against team1', 'offsides team1',\n",
       "       'passes team1', 'passes completed team1', 'crosses team1',\n",
       "       'crosses completed team1', 'corners team1', 'free kicks team1',\n",
       "       'penalties scored team1', 'goal preventions team1', 'own goals team1',\n",
       "       'category'],\n",
       "      dtype='object')"
      ]
     },
     "execution_count": 73,
     "metadata": {},
     "output_type": "execute_result"
    }
   ],
   "source": [
    "df.columns"
   ]
  },
  {
   "cell_type": "code",
   "execution_count": 74,
   "id": "61d0cf62",
   "metadata": {},
   "outputs": [],
   "source": [
    "df['Match Status'] = [np.nan for i in range(df.shape[0])]"
   ]
  },
  {
   "cell_type": "code",
   "execution_count": 75,
   "id": "ec32efd4",
   "metadata": {},
   "outputs": [],
   "source": [
    "for i in range(df.shape[0]):\n",
    "    if df['number of goals team1'].loc[i] > df['number of goals team2'].loc[i]:\n",
    "        df['Match Status'].loc[i] = 'Won'\n",
    "    \n",
    "    elif df['number of goals team1'].loc[i] < df['number of goals team2'].loc[i]:\n",
    "        df['Match Status'].loc[i] = 'Loss'\n",
    "    \n",
    "    else :\n",
    "        df['Match Status'].loc[i] = 'Draw'"
   ]
  },
  {
   "cell_type": "code",
   "execution_count": 76,
   "id": "1c0b2952",
   "metadata": {},
   "outputs": [],
   "source": [
    "df.to_csv(\"ARGENTINA FIFA World Cup Qatar 2022.csv\" , index=False)"
   ]
  },
  {
   "cell_type": "markdown",
   "id": "d36cfbfc",
   "metadata": {},
   "source": [
    "## How many matches and win - draw - loss"
   ]
  },
  {
   "cell_type": "code",
   "execution_count": 77,
   "id": "198f26e5",
   "metadata": {},
   "outputs": [
    {
     "data": {
      "text/plain": [
       "7"
      ]
     },
     "execution_count": 77,
     "metadata": {},
     "output_type": "execute_result"
    }
   ],
   "source": [
    "df.shape[0]"
   ]
  },
  {
   "cell_type": "code",
   "execution_count": 78,
   "id": "cbabd4d1",
   "metadata": {},
   "outputs": [
    {
     "data": {
      "text/plain": [
       "Won     4\n",
       "Draw    2\n",
       "Loss    1\n",
       "Name: Match Status, dtype: int64"
      ]
     },
     "execution_count": 78,
     "metadata": {},
     "output_type": "execute_result"
    }
   ],
   "source": [
    "df['Match Status'].value_counts()"
   ]
  },
  {
   "cell_type": "code",
   "execution_count": 79,
   "id": "1370b418",
   "metadata": {},
   "outputs": [
    {
     "data": {
      "text/plain": [
       "<AxesSubplot:xlabel='Match Status', ylabel='count'>"
      ]
     },
     "execution_count": 79,
     "metadata": {},
     "output_type": "execute_result"
    },
    {
     "data": {
      "image/png": "[encoded data removed]",
      "text/plain": [
       "<Figure size 360x360 with 1 Axes>"
      ]
     },
     "metadata": {},
     "output_type": "display_data"
    }
   ],
   "source": [
    "sns.countplot(df['Match Status'])"
   ]
  },
  {
   "cell_type": "code",
   "execution_count": 26,
   "id": "ba40f06a",
   "metadata": {},
   "outputs": [
    {
     "data": {
      "text/html": [
       "<div>\n",
       "<style scoped>\n",
       "    .dataframe tbody tr th:only-of-type {\n",
       "        vertical-align: middle;\n",
       "    }\n",
       "\n",
       "    .dataframe tbody tr th {\n",
       "        vertical-align: top;\n",
       "    }\n",
       "\n",
       "    .dataframe thead th {\n",
       "        text-align: right;\n",
       "    }\n",
       "</style>\n",
       "<table border=\"1\" class=\"dataframe\">\n",
       "  <thead>\n",
       "    <tr style=\"text-align: right;\">\n",
       "      <th></th>\n",
       "      <th>team2</th>\n",
       "    </tr>\n",
       "  </thead>\n",
       "  <tbody>\n",
       "    <tr>\n",
       "      <th>1</th>\n",
       "      <td>MEXICO</td>\n",
       "    </tr>\n",
       "    <tr>\n",
       "      <th>2</th>\n",
       "      <td>POLAND</td>\n",
       "    </tr>\n",
       "    <tr>\n",
       "      <th>3</th>\n",
       "      <td>AUSTRALIA</td>\n",
       "    </tr>\n",
       "    <tr>\n",
       "      <th>5</th>\n",
       "      <td>CROATIA</td>\n",
       "    </tr>\n",
       "  </tbody>\n",
       "</table>\n",
       "</div>"
      ],
      "text/plain": [
       "       team2\n",
       "1     MEXICO\n",
       "2     POLAND\n",
       "3  AUSTRALIA\n",
       "5    CROATIA"
      ]
     },
     "execution_count": 26,
     "metadata": {},
     "output_type": "execute_result"
    }
   ],
   "source": [
    "df[df['Match Status'] == 'Won']['team2'].to_frame()"
   ]
  },
  {
   "cell_type": "code",
   "execution_count": 27,
   "id": "85610d8f",
   "metadata": {},
   "outputs": [
    {
     "data": {
      "text/html": [
       "<div>\n",
       "<style scoped>\n",
       "    .dataframe tbody tr th:only-of-type {\n",
       "        vertical-align: middle;\n",
       "    }\n",
       "\n",
       "    .dataframe tbody tr th {\n",
       "        vertical-align: top;\n",
       "    }\n",
       "\n",
       "    .dataframe thead th {\n",
       "        text-align: right;\n",
       "    }\n",
       "</style>\n",
       "<table border=\"1\" class=\"dataframe\">\n",
       "  <thead>\n",
       "    <tr style=\"text-align: right;\">\n",
       "      <th></th>\n",
       "      <th>team2</th>\n",
       "    </tr>\n",
       "  </thead>\n",
       "  <tbody>\n",
       "    <tr>\n",
       "      <th>4</th>\n",
       "      <td>NETHERLANDS</td>\n",
       "    </tr>\n",
       "    <tr>\n",
       "      <th>6</th>\n",
       "      <td>FRANCE</td>\n",
       "    </tr>\n",
       "  </tbody>\n",
       "</table>\n",
       "</div>"
      ],
      "text/plain": [
       "         team2\n",
       "4  NETHERLANDS\n",
       "6       FRANCE"
      ]
     },
     "execution_count": 27,
     "metadata": {},
     "output_type": "execute_result"
    }
   ],
   "source": [
    "df[df['Match Status'] == 'Draw']['team2'].to_frame()"
   ]
  },
  {
   "cell_type": "code",
   "execution_count": 28,
   "id": "761e7901",
   "metadata": {},
   "outputs": [
    {
     "data": {
      "text/html": [
       "<div>\n",
       "<style scoped>\n",
       "    .dataframe tbody tr th:only-of-type {\n",
       "        vertical-align: middle;\n",
       "    }\n",
       "\n",
       "    .dataframe tbody tr th {\n",
       "        vertical-align: top;\n",
       "    }\n",
       "\n",
       "    .dataframe thead th {\n",
       "        text-align: right;\n",
       "    }\n",
       "</style>\n",
       "<table border=\"1\" class=\"dataframe\">\n",
       "  <thead>\n",
       "    <tr style=\"text-align: right;\">\n",
       "      <th></th>\n",
       "      <th>team2</th>\n",
       "    </tr>\n",
       "  </thead>\n",
       "  <tbody>\n",
       "    <tr>\n",
       "      <th>0</th>\n",
       "      <td>SAUDI ARABIA</td>\n",
       "    </tr>\n",
       "  </tbody>\n",
       "</table>\n",
       "</div>"
      ],
      "text/plain": [
       "          team2\n",
       "0  SAUDI ARABIA"
      ]
     },
     "execution_count": 28,
     "metadata": {},
     "output_type": "execute_result"
    }
   ],
   "source": [
    "df[df['Match Status'] == 'Loss']['team2'].to_frame()"
   ]
  },
  {
   "cell_type": "markdown",
   "id": "0f54d953",
   "metadata": {},
   "source": [
    "## scored goals"
   ]
  },
  {
   "cell_type": "code",
   "execution_count": 29,
   "id": "b544a8f1",
   "metadata": {},
   "outputs": [
    {
     "data": {
      "text/plain": [
       "15"
      ]
     },
     "execution_count": 29,
     "metadata": {},
     "output_type": "execute_result"
    }
   ],
   "source": [
    "df['number of goals team1'].sum()"
   ]
  },
  {
   "cell_type": "markdown",
   "id": "0a73e51b",
   "metadata": {},
   "source": [
    "### goal inside the penalty area"
   ]
  },
  {
   "cell_type": "code",
   "execution_count": 30,
   "id": "466204c8",
   "metadata": {},
   "outputs": [
    {
     "data": {
      "text/plain": [
       "14"
      ]
     },
     "execution_count": 30,
     "metadata": {},
     "output_type": "execute_result"
    }
   ],
   "source": [
    "df['goal inside the penalty area team1'].sum()"
   ]
  },
  {
   "cell_type": "markdown",
   "id": "ce43fcf4",
   "metadata": {},
   "source": [
    "### goal outside the penalty area"
   ]
  },
  {
   "cell_type": "code",
   "execution_count": 31,
   "id": "9cf2a96d",
   "metadata": {},
   "outputs": [
    {
     "data": {
      "text/plain": [
       "1"
      ]
     },
     "execution_count": 31,
     "metadata": {},
     "output_type": "execute_result"
    }
   ],
   "source": [
    "df['goal outside the penalty area team1'].sum()"
   ]
  },
  {
   "cell_type": "markdown",
   "id": "29356320",
   "metadata": {},
   "source": [
    "### recieved goals "
   ]
  },
  {
   "cell_type": "code",
   "execution_count": 32,
   "id": "2f95a399",
   "metadata": {},
   "outputs": [
    {
     "data": {
      "text/plain": [
       "8"
      ]
     },
     "execution_count": 32,
     "metadata": {},
     "output_type": "execute_result"
    }
   ],
   "source": [
    "df['number of goals team2'].sum()"
   ]
  },
  {
   "cell_type": "markdown",
   "id": "1b1d9b4f",
   "metadata": {},
   "source": [
    "### clean sheet "
   ]
  },
  {
   "cell_type": "code",
   "execution_count": 33,
   "id": "f1b3ca85",
   "metadata": {},
   "outputs": [
    {
     "data": {
      "text/plain": [
       "3"
      ]
     },
     "execution_count": 33,
     "metadata": {},
     "output_type": "execute_result"
    }
   ],
   "source": [
    "df[df['number of goals team2'] == 0].shape[0]"
   ]
  },
  {
   "cell_type": "markdown",
   "id": "d28dc34f",
   "metadata": {},
   "source": [
    "### avreage scored for match "
   ]
  },
  {
   "cell_type": "code",
   "execution_count": 34,
   "id": "2addd19d",
   "metadata": {},
   "outputs": [
    {
     "data": {
      "text/plain": [
       "2.142857142857143"
      ]
     },
     "execution_count": 34,
     "metadata": {},
     "output_type": "execute_result"
    }
   ],
   "source": [
    "df['number of goals team1'].mean()"
   ]
  },
  {
   "cell_type": "markdown",
   "id": "98dd4e22",
   "metadata": {},
   "source": [
    "### possession over matches "
   ]
  },
  {
   "cell_type": "code",
   "execution_count": 35,
   "id": "46debb38",
   "metadata": {},
   "outputs": [
    {
     "data": {
      "text/html": [
       "<div>\n",
       "<style scoped>\n",
       "    .dataframe tbody tr th:only-of-type {\n",
       "        vertical-align: middle;\n",
       "    }\n",
       "\n",
       "    .dataframe tbody tr th {\n",
       "        vertical-align: top;\n",
       "    }\n",
       "\n",
       "    .dataframe thead th {\n",
       "        text-align: right;\n",
       "    }\n",
       "</style>\n",
       "<table border=\"1\" class=\"dataframe\">\n",
       "  <thead>\n",
       "    <tr style=\"text-align: right;\">\n",
       "      <th></th>\n",
       "      <th>team2</th>\n",
       "      <th>possession team1</th>\n",
       "    </tr>\n",
       "  </thead>\n",
       "  <tbody>\n",
       "    <tr>\n",
       "      <th>0</th>\n",
       "      <td>SAUDI ARABIA</td>\n",
       "      <td>64</td>\n",
       "    </tr>\n",
       "    <tr>\n",
       "      <th>1</th>\n",
       "      <td>MEXICO</td>\n",
       "      <td>50</td>\n",
       "    </tr>\n",
       "    <tr>\n",
       "      <th>2</th>\n",
       "      <td>POLAND</td>\n",
       "      <td>67</td>\n",
       "    </tr>\n",
       "    <tr>\n",
       "      <th>3</th>\n",
       "      <td>AUSTRALIA</td>\n",
       "      <td>53</td>\n",
       "    </tr>\n",
       "    <tr>\n",
       "      <th>4</th>\n",
       "      <td>NETHERLANDS</td>\n",
       "      <td>44</td>\n",
       "    </tr>\n",
       "    <tr>\n",
       "      <th>5</th>\n",
       "      <td>CROATIA</td>\n",
       "      <td>34</td>\n",
       "    </tr>\n",
       "    <tr>\n",
       "      <th>6</th>\n",
       "      <td>FRANCE</td>\n",
       "      <td>46</td>\n",
       "    </tr>\n",
       "  </tbody>\n",
       "</table>\n",
       "</div>"
      ],
      "text/plain": [
       "          team2  possession team1\n",
       "0  SAUDI ARABIA                64\n",
       "1        MEXICO                50\n",
       "2        POLAND                67\n",
       "3     AUSTRALIA                53\n",
       "4   NETHERLANDS                44\n",
       "5       CROATIA                34\n",
       "6        FRANCE                46"
      ]
     },
     "execution_count": 35,
     "metadata": {},
     "output_type": "execute_result"
    }
   ],
   "source": [
    "df[['team2' , 'possession team1']]"
   ]
  },
  {
   "cell_type": "code",
   "execution_count": 36,
   "id": "9a40184c",
   "metadata": {},
   "outputs": [
    {
     "data": {
      "text/html": [
       "<div>\n",
       "<style scoped>\n",
       "    .dataframe tbody tr th:only-of-type {\n",
       "        vertical-align: middle;\n",
       "    }\n",
       "\n",
       "    .dataframe tbody tr th {\n",
       "        vertical-align: top;\n",
       "    }\n",
       "\n",
       "    .dataframe thead th {\n",
       "        text-align: right;\n",
       "    }\n",
       "</style>\n",
       "<table border=\"1\" class=\"dataframe\">\n",
       "  <thead>\n",
       "    <tr style=\"text-align: right;\">\n",
       "      <th></th>\n",
       "      <th>possession team1</th>\n",
       "    </tr>\n",
       "    <tr>\n",
       "      <th>team2</th>\n",
       "      <th></th>\n",
       "    </tr>\n",
       "  </thead>\n",
       "  <tbody>\n",
       "    <tr>\n",
       "      <th>POLAND</th>\n",
       "      <td>67</td>\n",
       "    </tr>\n",
       "    <tr>\n",
       "      <th>SAUDI ARABIA</th>\n",
       "      <td>64</td>\n",
       "    </tr>\n",
       "    <tr>\n",
       "      <th>AUSTRALIA</th>\n",
       "      <td>53</td>\n",
       "    </tr>\n",
       "    <tr>\n",
       "      <th>MEXICO</th>\n",
       "      <td>50</td>\n",
       "    </tr>\n",
       "    <tr>\n",
       "      <th>FRANCE</th>\n",
       "      <td>46</td>\n",
       "    </tr>\n",
       "    <tr>\n",
       "      <th>NETHERLANDS</th>\n",
       "      <td>44</td>\n",
       "    </tr>\n",
       "    <tr>\n",
       "      <th>CROATIA</th>\n",
       "      <td>34</td>\n",
       "    </tr>\n",
       "  </tbody>\n",
       "</table>\n",
       "</div>"
      ],
      "text/plain": [
       "              possession team1\n",
       "team2                         \n",
       "POLAND                      67\n",
       "SAUDI ARABIA                64\n",
       "AUSTRALIA                   53\n",
       "MEXICO                      50\n",
       "FRANCE                      46\n",
       "NETHERLANDS                 44\n",
       "CROATIA                     34"
      ]
     },
     "execution_count": 36,
     "metadata": {},
     "output_type": "execute_result"
    }
   ],
   "source": [
    "group = df.groupby(['team2'])['possession team1'].sum().to_frame().sort_values(by = 'possession team1' , ascending = False )\n",
    "group"
   ]
  },
  {
   "cell_type": "code",
   "execution_count": 37,
   "id": "fe37ee82",
   "metadata": {},
   "outputs": [
    {
     "data": {
      "text/plain": [
       "<AxesSubplot:xlabel='possession team1', ylabel='team2'>"
      ]
     },
     "execution_count": 37,
     "metadata": {},
     "output_type": "execute_result"
    },
    {
     "data": {
      "image/png": "[encoded data removed]",
      "text/plain": [
       "<Figure size 360x360 with 1 Axes>"
      ]
     },
     "metadata": {},
     "output_type": "display_data"
    }
   ],
   "source": [
    "sns.barplot(data = df , y = 'team2' , x = 'possession team1' , estimator=np.sum , order=group.index)"
   ]
  },
  {
   "cell_type": "markdown",
   "id": "7cf81577",
   "metadata": {},
   "source": [
    "### total attempt "
   ]
  },
  {
   "cell_type": "code",
   "execution_count": 38,
   "id": "6970783f",
   "metadata": {},
   "outputs": [
    {
     "data": {
      "text/plain": [
       "<AxesSubplot:xlabel='total attempts team1', ylabel='team2'>"
      ]
     },
     "execution_count": 38,
     "metadata": {},
     "output_type": "execute_result"
    },
    {
     "data": {
      "image/png": "[encoded data removed]",
      "text/plain": [
       "<Figure size 360x360 with 1 Axes>"
      ]
     },
     "metadata": {},
     "output_type": "display_data"
    }
   ],
   "source": [
    "sns.barplot(data = df , y = 'team2' , x = 'total attempts team1' , estimator=np.sum)"
   ]
  },
  {
   "cell_type": "markdown",
   "id": "54911a0a",
   "metadata": {},
   "source": [
    "### on target attempts\t"
   ]
  },
  {
   "cell_type": "code",
   "execution_count": 39,
   "id": "a9daa14d",
   "metadata": {},
   "outputs": [
    {
     "data": {
      "text/plain": [
       "<AxesSubplot:xlabel='on target attempts team1', ylabel='team2'>"
      ]
     },
     "execution_count": 39,
     "metadata": {},
     "output_type": "execute_result"
    },
    {
     "data": {
      "image/png": "[encoded data removed]",
      "text/plain": [
       "<Figure size 360x360 with 1 Axes>"
      ]
     },
     "metadata": {},
     "output_type": "display_data"
    }
   ],
   "source": [
    "sns.barplot(data = df , y = 'team2' , x = 'on target attempts team1' , estimator=np.sum)"
   ]
  },
  {
   "cell_type": "markdown",
   "id": "df61342a",
   "metadata": {},
   "source": [
    "### off target attempts"
   ]
  },
  {
   "cell_type": "code",
   "execution_count": 40,
   "id": "f73f6eeb",
   "metadata": {},
   "outputs": [
    {
     "data": {
      "text/plain": [
       "<AxesSubplot:xlabel='off target attempts team1', ylabel='team2'>"
      ]
     },
     "execution_count": 40,
     "metadata": {},
     "output_type": "execute_result"
    },
    {
     "data": {
      "image/png": "[encoded data removed]",
      "text/plain": [
       "<Figure size 360x360 with 1 Axes>"
      ]
     },
     "metadata": {},
     "output_type": "display_data"
    }
   ],
   "source": [
    "sns.barplot(data = df , x = 'off target attempts team1' , y = 'team2' , estimator=np.sum)"
   ]
  },
  {
   "cell_type": "markdown",
   "id": "dbfb033e",
   "metadata": {},
   "source": [
    "### attempts inside the penalty area"
   ]
  },
  {
   "cell_type": "code",
   "execution_count": 41,
   "id": "8505a5bb",
   "metadata": {},
   "outputs": [
    {
     "data": {
      "text/plain": [
       "66"
      ]
     },
     "execution_count": 41,
     "metadata": {},
     "output_type": "execute_result"
    }
   ],
   "source": [
    "df['attempts inside the penalty area team1'].sum()"
   ]
  },
  {
   "cell_type": "code",
   "execution_count": 42,
   "id": "60496db7",
   "metadata": {},
   "outputs": [
    {
     "data": {
      "text/plain": [
       "9.428571428571429"
      ]
     },
     "execution_count": 42,
     "metadata": {},
     "output_type": "execute_result"
    }
   ],
   "source": [
    "df['attempts inside the penalty area team1'].mean()"
   ]
  },
  {
   "cell_type": "code",
   "execution_count": 43,
   "id": "2aec0c81",
   "metadata": {},
   "outputs": [
    {
     "data": {
      "text/plain": [
       "<AxesSubplot:xlabel='attempts inside the penalty area team1', ylabel='team2'>"
      ]
     },
     "execution_count": 43,
     "metadata": {},
     "output_type": "execute_result"
    },
    {
     "data": {
      "image/png": "[encoded data removed]",
      "text/plain": [
       "<Figure size 360x360 with 1 Axes>"
      ]
     },
     "metadata": {},
     "output_type": "display_data"
    }
   ],
   "source": [
    "sns.barplot(data = df , y  = 'team2' , x = 'attempts inside the penalty area team1' , estimator=np.sum)"
   ]
  },
  {
   "cell_type": "code",
   "execution_count": 44,
   "id": "02849d05",
   "metadata": {},
   "outputs": [
    {
     "data": {
      "text/plain": [
       "Index(['team1', 'team2', 'possession team1', 'number of goals team1',\n",
       "       'number of goals team2', 'total attempts team1',\n",
       "       'goal inside the penalty area team1',\n",
       "       'goal outside the penalty area team1', 'assists team1',\n",
       "       'on target attempts team1', 'off target attempts team1',\n",
       "       'attempts inside the penalty area team1',\n",
       "       'attempts outside the penalty area  team1', 'yellow cards team1',\n",
       "       'red cards team1', 'fouls against team1', 'offsides team1',\n",
       "       'passes team1', 'passes completed team1', 'crosses team1',\n",
       "       'crosses completed team1', 'corners team1', 'free kicks team1',\n",
       "       'penalties scored team1', 'goal preventions team1', 'own goals team1',\n",
       "       'category', 'Match Status'],\n",
       "      dtype='object')"
      ]
     },
     "execution_count": 44,
     "metadata": {},
     "output_type": "execute_result"
    }
   ],
   "source": [
    "df.columns"
   ]
  },
  {
   "cell_type": "code",
   "execution_count": 45,
   "id": "d8c5886e",
   "metadata": {},
   "outputs": [
    {
     "data": {
      "text/plain": [
       "16"
      ]
     },
     "execution_count": 45,
     "metadata": {},
     "output_type": "execute_result"
    }
   ],
   "source": [
    "df['yellow cards team1'].sum()"
   ]
  },
  {
   "cell_type": "code",
   "execution_count": 46,
   "id": "7db5fc8e",
   "metadata": {},
   "outputs": [
    {
     "data": {
      "text/plain": [
       "0"
      ]
     },
     "execution_count": 46,
     "metadata": {},
     "output_type": "execute_result"
    }
   ],
   "source": [
    "df['red cards team1'].sum()"
   ]
  },
  {
   "cell_type": "code",
   "execution_count": 47,
   "id": "81c7828c",
   "metadata": {},
   "outputs": [
    {
     "data": {
      "text/plain": [
       "4375"
      ]
     },
     "execution_count": 47,
     "metadata": {},
     "output_type": "execute_result"
    }
   ],
   "source": [
    "df['passes team1'].sum()"
   ]
  },
  {
   "cell_type": "code",
   "execution_count": 48,
   "id": "862a5214",
   "metadata": {},
   "outputs": [
    {
     "data": {
      "text/plain": [
       "3841"
      ]
     },
     "execution_count": 48,
     "metadata": {},
     "output_type": "execute_result"
    }
   ],
   "source": [
    "df['passes completed team1'].sum()"
   ]
  },
  {
   "cell_type": "code",
   "execution_count": 49,
   "id": "ee0e7270",
   "metadata": {},
   "outputs": [
    {
     "data": {
      "text/plain": [
       "87.7942857142857"
      ]
     },
     "execution_count": 49,
     "metadata": {},
     "output_type": "execute_result"
    }
   ],
   "source": [
    "df['passes completed team1'].sum() / df['passes team1'].sum() *100"
   ]
  },
  {
   "cell_type": "code",
   "execution_count": 50,
   "id": "1dc8473a",
   "metadata": {},
   "outputs": [
    {
     "data": {
      "text/plain": [
       "115"
      ]
     },
     "execution_count": 50,
     "metadata": {},
     "output_type": "execute_result"
    }
   ],
   "source": [
    "df['crosses team1'].sum()"
   ]
  },
  {
   "cell_type": "code",
   "execution_count": 51,
   "id": "09b98da9",
   "metadata": {},
   "outputs": [
    {
     "data": {
      "text/plain": [
       "30"
      ]
     },
     "execution_count": 51,
     "metadata": {},
     "output_type": "execute_result"
    }
   ],
   "source": [
    "df['crosses completed team1'].sum()"
   ]
  },
  {
   "cell_type": "code",
   "execution_count": 52,
   "id": "802217e3",
   "metadata": {},
   "outputs": [
    {
     "data": {
      "text/plain": [
       "4"
      ]
     },
     "execution_count": 52,
     "metadata": {},
     "output_type": "execute_result"
    }
   ],
   "source": [
    "df['penalties scored team1'].sum()"
   ]
  },
  {
   "cell_type": "code",
   "execution_count": 53,
   "id": "15b77eb9",
   "metadata": {},
   "outputs": [
    {
     "data": {
      "text/plain": [
       "39"
      ]
     },
     "execution_count": 53,
     "metadata": {},
     "output_type": "execute_result"
    }
   ],
   "source": [
    "df['corners team1'].sum()"
   ]
  },
  {
   "cell_type": "code",
   "execution_count": null,
   "id": "b9feb79d",
   "metadata": {},
   "outputs": [],
   "source": []
  }
 ],
 "metadata": {
  "kernelspec": {
   "display_name": "Python 3 (ipykernel)",
   "language": "python",
   "name": "python3"
  },
  "language_info": {
   "codemirror_mode": {
    "name": "ipython",
    "version": 3
   },
   "file_extension": ".py",
   "mimetype": "text/x-python",
   "name": "python",
   "nbconvert_exporter": "python",
   "pygments_lexer": "ipython3",
   "version": "3.10.4"
  }
 },
 "nbformat": 4,
 "nbformat_minor": 5
}
